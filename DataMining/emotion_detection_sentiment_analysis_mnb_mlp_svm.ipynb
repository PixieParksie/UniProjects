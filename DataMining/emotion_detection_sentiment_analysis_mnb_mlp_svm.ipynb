{
  "cells": [
    {
      "cell_type": "markdown",
      "id": "b26cde85",
      "metadata": {
        "papermill": {
          "duration": 0.013298,
          "end_time": "2023-11-19T00:10:12.596454",
          "exception": false,
          "start_time": "2023-11-19T00:10:12.583156",
          "status": "completed"
        },
        "tags": [],
        "id": "b26cde85"
      },
      "source": [
        "2023 August\n",
        "\n",
        "Paper name: Data Mining and Knowledge Engineering\n",
        "\n",
        "---\n",
        "\n",
        "<br>\n",
        "\n",
        "# Purpose of this project:\n",
        "\n",
        "To compare the performance of three classification algorithms Multinomial Naive Bayes, Multilayer Perceptron, and Support Vector Machine.\n",
        "\n",
        "<br>\n",
        "\n",
        "# Tools used\n",
        "Python (Jupyter & Google Colab)\n",
        "\n",
        "<br>\n",
        "\n",
        "# Algorithms and parameters used:\n",
        "   - Multinomial Naive Bayes (MNB), Param: default\n",
        "   - Multilayer Perceptron (MLP), Param: 100,100, a=0.01\n",
        "   - Support Vector Machine (SVM), Param: default\n",
        "  \n",
        "<br>\n",
        "\n",
        "# Results (accuracy):\n",
        "\n",
        "MNB: 0.533\n",
        "\n",
        "MLP: 0.53\n",
        "\n",
        "SVM: 0.59\n",
        "\n",
        "<br>\n",
        "\n",
        "# Best-performing algorithm and why:\n",
        "\n",
        "Support Vector Machine.\n",
        "\n",
        "Reason:\n",
        "SVM demonstrated the highest Accuracy, Precision and Recall rates. It also exhibited robustness to noise and changes in input data, making it the ideal choice for the this particular dataset. Additionaly, it does not require significant computational resources, making it an approachable option.\n",
        "\n",
        "<br>\n",
        "\n",
        "# Details about the dataset:\n",
        "- This public domain dataset is collected from data.world platform, shared by @crowdflower, a data enrichment, mining and crowdsourcing company based in the US.\n",
        "- The dataset consists of 40000 records of tweets labelled with 13 different sentiments, followed by Tweet ID number.\n",
        "- All data types are strings, except for the 'tweet ID' column, which is an integer.\n",
        "- There is a class imbalance of <21.32%. Tweets primarily convey neutral and negative sentiments.\n",
        "- Contains 172 duplicate rows (tweets) but categorised with different sentiment labels.\n",
        "- Word lengths vary, ranging from a minimum of 1 word to a maximum of 16 words.\n",
        "- The data exhibits some degree of disorder and lack of cohesion. Various linguistic patterns used to express sentiment.\n",
        "- Some information contains only special characters or hyperlinks.\n",
        "- Contains informal and colloquial terms. For instance, “peeps” is a friendly term for “People”.\n",
        "- Contains self-made terms, slangs or misspellings such as “Humpalow”.\n",
        "\n",
        "<br>\n",
        "\n",
        "# Four things I did to maximise accuracy and why:\n",
        "\n",
        "- One: Cleaned special characters\n",
        "\n",
        "Rationale: Tweets contain dynamic ways of conveying emotions through text. We retained punctuation marks ('!' and '?') to capture emotional tones during text cleaning. However, as there was no significant difference in the results - we proceeded to remove these characters.\n",
        "\n",
        "\n",
        "- Two: Lemmatisation\n",
        "\n",
        "Rationale: Experimented stemming and lemmatisation, using both and interchangeably. Neither had zero to minimal impact on accuracy. Stemming showed no effect, while lemmatisation produced slight changes of 0.001.\n",
        "\n",
        "- Three: Retained stopword\n",
        "\n",
        "Rationale:  Retaining stopwords improved precision.\n",
        "There's a possibility that removing stopwords could result in the loss of valuable information, especially in rows where a high number of stopwords, accounting for over 50% of the sentence.\n",
        "\n",
        "- Four: TF-IDF as Feature Engineering method\n",
        "\n",
        "Rationale:  TF-IDF exhibited higher accuracy compared to GloVe. Accuracy rates dropped by up to 20% after embedding text using GloVe.\n",
        "\n",
        "\n",
        "\n",
        "# What did I do to mitigate data imbalance?:\n",
        "\n",
        "I Combined the 13 labels into three primary emotions: Positive, Negative, and Neutral. Further details are explained in [here](#Data-Exploration-Exploring-Class).\n",
        "\n",
        "<br>\n",
        "\n",
        "## Table of Contents:\n",
        "\n",
        "#### 1. Data Exploration\n",
        "- [Preparaion](#data-exploration-data-preparation)\n",
        "- [Balancing class](#data-exploration-balancing-class)\n",
        "\n",
        "#### 2. Preprocess\n",
        "- [Data cleaning](#preprocessing-data-cleaning)\n",
        "- [Exploring Cleaned Data & Investigating Stopwords in Text](#preprocessing-exploring-cleaned-data--investigating-stopwords-in-text)\n",
        "- [Tokenising](#preprocessing-tokenisation)\n",
        "\n",
        "#### 3. Feature Engineering\n",
        "- [Vectorising using TF-IDF](#feature-engineering-vectorising-using-tf-idf)\n",
        "\n",
        "#### 4. Model Training/Testing/Evaluation\n",
        "- [MNB](#Model-TrainingTestingEvaluation-MNB)\n",
        "- [MLP](#Model-TrainingTestingEvaluation-MLP)\n",
        "- [SVM](#Model-TrainingTestingEvaluation-SVM)\n",
        "\n",
        "#### 5. [Experiment details](#experiment-details)\n",
        "\n",
        "#### 6. [Conclusion](#conclusion)  "
      ]
    },
    {
      "cell_type": "code",
      "execution_count": null,
      "id": "c37b3545",
      "metadata": {
        "execution": {
          "iopub.execute_input": "2023-11-19T00:10:12.626036Z",
          "iopub.status.busy": "2023-11-19T00:10:12.625565Z",
          "iopub.status.idle": "2023-11-19T00:10:34.743959Z",
          "shell.execute_reply": "2023-11-19T00:10:34.742681Z"
        },
        "papermill": {
          "duration": 22.136671,
          "end_time": "2023-11-19T00:10:34.746932",
          "exception": false,
          "start_time": "2023-11-19T00:10:12.610261",
          "status": "completed"
        },
        "tags": [],
        "id": "c37b3545",
        "outputId": "d5c79ac6-6874-425b-b160-6515a502ca43"
      },
      "outputs": [
        {
          "name": "stdout",
          "output_type": "stream",
          "text": [
            "Name: nltk\r\n",
            "Version: 3.2.4\r\n",
            "Summary: Natural Language Toolkit\r\n",
            "Home-page: http://nltk.org/\r\n",
            "Author: Steven Bird\r\n",
            "Author-email: stevenbird1@gmail.com\r\n",
            "License: Apache License, Version 2.0\r\n",
            "Location: /opt/conda/lib/python3.10/site-packages\r\n",
            "Requires: six\r\n",
            "Required-by: preprocessing, textblob\r\n",
            "Requirement already satisfied: nltk in /opt/conda/lib/python3.10/site-packages (3.2.4)\r\n",
            "Collecting nltk\r\n",
            "  Downloading nltk-3.8.1-py3-none-any.whl (1.5 MB)\r\n",
            "\u001b[2K     \u001b[90m━━━━━━━━━━━━━━━━━━━━━━━━━━━━━━━━━━━━━━━━\u001b[0m \u001b[32m1.5/1.5 MB\u001b[0m \u001b[31m20.9 MB/s\u001b[0m eta \u001b[36m0:00:00\u001b[0m\r\n",
            "\u001b[?25hRequirement already satisfied: click in /opt/conda/lib/python3.10/site-packages (from nltk) (8.1.7)\r\n",
            "Requirement already satisfied: joblib in /opt/conda/lib/python3.10/site-packages (from nltk) (1.3.2)\r\n",
            "Requirement already satisfied: regex>=2021.8.3 in /opt/conda/lib/python3.10/site-packages (from nltk) (2023.8.8)\r\n",
            "Requirement already satisfied: tqdm in /opt/conda/lib/python3.10/site-packages (from nltk) (4.66.1)\r\n",
            "Installing collected packages: nltk\r\n",
            "  Attempting uninstall: nltk\r\n",
            "    Found existing installation: nltk 3.2.4\r\n",
            "    Uninstalling nltk-3.2.4:\r\n",
            "      Successfully uninstalled nltk-3.2.4\r\n",
            "\u001b[31mERROR: pip's dependency resolver does not currently take into account all the packages that are installed. This behaviour is the source of the following dependency conflicts.\r\n",
            "preprocessing 0.1.13 requires nltk==3.2.4, but you have nltk 3.8.1 which is incompatible.\u001b[0m\u001b[31m\r\n",
            "\u001b[0mSuccessfully installed nltk-3.8.1\r\n"
          ]
        }
      ],
      "source": [
        "!pip show nltk\n",
        "!pip install --upgrade nltk"
      ]
    },
    {
      "cell_type": "code",
      "execution_count": null,
      "id": "c02457cf",
      "metadata": {
        "execution": {
          "iopub.execute_input": "2023-11-19T00:10:34.781043Z",
          "iopub.status.busy": "2023-11-19T00:10:34.780644Z",
          "iopub.status.idle": "2023-11-19T00:10:46.629586Z",
          "shell.execute_reply": "2023-11-19T00:10:46.626867Z"
        },
        "papermill": {
          "duration": 11.869939,
          "end_time": "2023-11-19T00:10:46.632644",
          "exception": false,
          "start_time": "2023-11-19T00:10:34.762705",
          "status": "completed"
        },
        "tags": [],
        "id": "c02457cf",
        "outputId": "be9ed21c-f1cc-4fdb-da49-175b10daede2"
      },
      "outputs": [
        {
          "name": "stdout",
          "output_type": "stream",
          "text": [
            "Requirement already satisfied: stop_words in /opt/conda/lib/python3.10/site-packages (2018.7.23)\r\n"
          ]
        },
        {
          "name": "stderr",
          "output_type": "stream",
          "text": [
            "[nltk_data] Downloading package stopwords to /usr/share/nltk_data...\n",
            "[nltk_data]   Package stopwords is already up-to-date!\n",
            "[nltk_data] Downloading package wordnet to /usr/share/nltk_data...\n",
            "[nltk_data]   Package wordnet is already up-to-date!\n",
            "[nltk_data] Downloading package omw-1.4 to /usr/share/nltk_data...\n",
            "[nltk_data] Downloading package punkt to /usr/share/nltk_data...\n",
            "[nltk_data]   Package punkt is already up-to-date!\n"
          ]
        }
      ],
      "source": [
        "import pandas as pd\n",
        "import numpy as np\n",
        "\n",
        "import re\n",
        "import nltk\n",
        "from nltk.stem import PorterStemmer\n",
        "from nltk.stem import WordNetLemmatizer\n",
        "from sklearn.datasets import load_files\n",
        "!pip install stop_words\n",
        "nltk.download('stopwords')\n",
        "import pickle\n",
        "\n",
        "from nltk.corpus import stopwords\n",
        "nltk.download('wordnet')\n",
        "nltk.download('omw-1.4')\n",
        "nltk.download('punkt')\n",
        "from nltk.tokenize import sent_tokenize\n",
        "#!pip install stop_words\n",
        "\n",
        "from sklearn.model_selection import train_test_split\n",
        "from sklearn.feature_extraction.text import TfidfTransformer\n",
        "from sklearn.feature_extraction.text import CountVectorizer, TfidfVectorizer\n",
        "\n",
        "from sklearn.naive_bayes import MultinomialNB\n",
        "from sklearn.metrics import classification_report, accuracy_score, confusion_matrix\n",
        "from sklearn.model_selection import cross_val_predict, StratifiedKFold\n",
        "from sklearn.neural_network import MLPClassifier\n",
        "import matplotlib.pyplot as plt\n",
        "from sklearn.metrics import accuracy_score, precision_score, recall_score, f1_score, confusion_matrix, classification_report\n",
        "\n",
        "from sklearn.pipeline import Pipeline\n",
        "from sklearn.svm import SVC\n",
        "import matplotlib.pyplot as plt"
      ]
    },
    {
      "cell_type": "markdown",
      "id": "72a4c8e3",
      "metadata": {
        "papermill": {
          "duration": 0.015776,
          "end_time": "2023-11-19T00:10:46.948493",
          "exception": false,
          "start_time": "2023-11-19T00:10:46.932717",
          "status": "completed"
        },
        "tags": [],
        "id": "72a4c8e3"
      },
      "source": [
        "# Data Exploration: Data Preparation"
      ]
    },
    {
      "cell_type": "code",
      "execution_count": null,
      "id": "762535df",
      "metadata": {
        "execution": {
          "iopub.execute_input": "2023-11-19T00:10:46.667210Z",
          "iopub.status.busy": "2023-11-19T00:10:46.666433Z",
          "iopub.status.idle": "2023-11-19T00:10:46.914207Z",
          "shell.execute_reply": "2023-11-19T00:10:46.911689Z"
        },
        "papermill": {
          "duration": 0.268478,
          "end_time": "2023-11-19T00:10:46.916974",
          "exception": false,
          "start_time": "2023-11-19T00:10:46.648496",
          "status": "completed"
        },
        "tags": [],
        "id": "762535df",
        "outputId": "b3a2ebff-5c87-4fc6-915f-394a4b2a2d92"
      },
      "outputs": [
        {
          "data": {
            "text/html": [
              "<div>\n",
              "<style scoped>\n",
              "    .dataframe tbody tr th:only-of-type {\n",
              "        vertical-align: middle;\n",
              "    }\n",
              "\n",
              "    .dataframe tbody tr th {\n",
              "        vertical-align: top;\n",
              "    }\n",
              "\n",
              "    .dataframe thead th {\n",
              "        text-align: right;\n",
              "    }\n",
              "</style>\n",
              "<table border=\"1\" class=\"dataframe\">\n",
              "  <thead>\n",
              "    <tr style=\"text-align: right;\">\n",
              "      <th></th>\n",
              "      <th>tweet_id</th>\n",
              "      <th>sentiment</th>\n",
              "      <th>content</th>\n",
              "    </tr>\n",
              "  </thead>\n",
              "  <tbody>\n",
              "    <tr>\n",
              "      <th>0</th>\n",
              "      <td>1956967341</td>\n",
              "      <td>empty</td>\n",
              "      <td>@tiffanylue i know  i was listenin to bad habi...</td>\n",
              "    </tr>\n",
              "    <tr>\n",
              "      <th>1</th>\n",
              "      <td>1956967666</td>\n",
              "      <td>sadness</td>\n",
              "      <td>Layin n bed with a headache  ughhhh...waitin o...</td>\n",
              "    </tr>\n",
              "    <tr>\n",
              "      <th>2</th>\n",
              "      <td>1956967696</td>\n",
              "      <td>sadness</td>\n",
              "      <td>Funeral ceremony...gloomy friday...</td>\n",
              "    </tr>\n",
              "    <tr>\n",
              "      <th>3</th>\n",
              "      <td>1956967789</td>\n",
              "      <td>enthusiasm</td>\n",
              "      <td>wants to hang out with friends SOON!</td>\n",
              "    </tr>\n",
              "    <tr>\n",
              "      <th>4</th>\n",
              "      <td>1956968416</td>\n",
              "      <td>neutral</td>\n",
              "      <td>@dannycastillo We want to trade with someone w...</td>\n",
              "    </tr>\n",
              "    <tr>\n",
              "      <th>5</th>\n",
              "      <td>1956968477</td>\n",
              "      <td>worry</td>\n",
              "      <td>Re-pinging @ghostridah14: why didn't you go to...</td>\n",
              "    </tr>\n",
              "    <tr>\n",
              "      <th>6</th>\n",
              "      <td>1956968487</td>\n",
              "      <td>sadness</td>\n",
              "      <td>I should be sleep, but im not! thinking about ...</td>\n",
              "    </tr>\n",
              "    <tr>\n",
              "      <th>7</th>\n",
              "      <td>1956968636</td>\n",
              "      <td>worry</td>\n",
              "      <td>Hmmm. http://www.djhero.com/ is down</td>\n",
              "    </tr>\n",
              "    <tr>\n",
              "      <th>8</th>\n",
              "      <td>1956969035</td>\n",
              "      <td>sadness</td>\n",
              "      <td>@charviray Charlene my love. I miss you</td>\n",
              "    </tr>\n",
              "    <tr>\n",
              "      <th>9</th>\n",
              "      <td>1956969172</td>\n",
              "      <td>sadness</td>\n",
              "      <td>@kelcouch I'm sorry  at least it's Friday?</td>\n",
              "    </tr>\n",
              "  </tbody>\n",
              "</table>\n",
              "</div>"
            ],
            "text/plain": [
              "     tweet_id   sentiment                                            content\n",
              "0  1956967341       empty  @tiffanylue i know  i was listenin to bad habi...\n",
              "1  1956967666     sadness  Layin n bed with a headache  ughhhh...waitin o...\n",
              "2  1956967696     sadness                Funeral ceremony...gloomy friday...\n",
              "3  1956967789  enthusiasm               wants to hang out with friends SOON!\n",
              "4  1956968416     neutral  @dannycastillo We want to trade with someone w...\n",
              "5  1956968477       worry  Re-pinging @ghostridah14: why didn't you go to...\n",
              "6  1956968487     sadness  I should be sleep, but im not! thinking about ...\n",
              "7  1956968636       worry               Hmmm. http://www.djhero.com/ is down\n",
              "8  1956969035     sadness            @charviray Charlene my love. I miss you\n",
              "9  1956969172     sadness         @kelcouch I'm sorry  at least it's Friday?"
            ]
          },
          "execution_count": 3,
          "metadata": {},
          "output_type": "execute_result"
        }
      ],
      "source": [
        "df = pd.read_csv('/kaggle/input/emotion-detection-from-text/tweet_emotions.csv')\n",
        "df.head(10)"
      ]
    },
    {
      "cell_type": "code",
      "execution_count": null,
      "id": "a4d315d7",
      "metadata": {
        "execution": {
          "iopub.execute_input": "2023-11-19T00:10:46.979360Z",
          "iopub.status.busy": "2023-11-19T00:10:46.979030Z",
          "iopub.status.idle": "2023-11-19T00:10:47.011400Z",
          "shell.execute_reply": "2023-11-19T00:10:47.010225Z"
        },
        "papermill": {
          "duration": 0.050299,
          "end_time": "2023-11-19T00:10:47.013528",
          "exception": false,
          "start_time": "2023-11-19T00:10:46.963229",
          "status": "completed"
        },
        "tags": [],
        "id": "a4d315d7",
        "outputId": "13915434-f979-4eb3-f4ba-884a1ca3b783"
      },
      "outputs": [
        {
          "name": "stdout",
          "output_type": "stream",
          "text": [
            "<class 'pandas.core.frame.DataFrame'>\n",
            "RangeIndex: 40000 entries, 0 to 39999\n",
            "Data columns (total 3 columns):\n",
            " #   Column     Non-Null Count  Dtype \n",
            "---  ------     --------------  ----- \n",
            " 0   tweet_id   40000 non-null  int64 \n",
            " 1   sentiment  40000 non-null  object\n",
            " 2   content    40000 non-null  object\n",
            "dtypes: int64(1), object(2)\n",
            "memory usage: 937.6+ KB\n"
          ]
        }
      ],
      "source": [
        "df.info()"
      ]
    },
    {
      "cell_type": "code",
      "execution_count": null,
      "id": "3a0f4e3f",
      "metadata": {
        "execution": {
          "iopub.execute_input": "2023-11-19T00:10:47.046728Z",
          "iopub.status.busy": "2023-11-19T00:10:47.046235Z",
          "iopub.status.idle": "2023-11-19T00:10:47.052585Z",
          "shell.execute_reply": "2023-11-19T00:10:47.051756Z"
        },
        "papermill": {
          "duration": 0.025811,
          "end_time": "2023-11-19T00:10:47.054610",
          "exception": false,
          "start_time": "2023-11-19T00:10:47.028799",
          "status": "completed"
        },
        "tags": [],
        "id": "3a0f4e3f",
        "outputId": "4cf6847d-8316-4bc2-ebce-76e9e4be710f"
      },
      "outputs": [
        {
          "name": "stdout",
          "output_type": "stream",
          "text": [
            "Num of numerical variables: 1\n",
            "\n",
            "The numerical variables are:  ['tweet_id']\n"
          ]
        }
      ],
      "source": [
        "# Find any numerical variables.\n",
        "numerical = [var for var in df.columns if df[var].dtype!='O']\n",
        "\n",
        "print('Num of numerical variables: {}\\n'.format(len(numerical)))\n",
        "print('The numerical variables are: ', numerical)"
      ]
    },
    {
      "cell_type": "code",
      "execution_count": null,
      "id": "78fc0bb8",
      "metadata": {
        "execution": {
          "iopub.execute_input": "2023-11-19T00:10:47.089204Z",
          "iopub.status.busy": "2023-11-19T00:10:47.088117Z",
          "iopub.status.idle": "2023-11-19T00:10:47.097160Z",
          "shell.execute_reply": "2023-11-19T00:10:47.096244Z"
        },
        "papermill": {
          "duration": 0.029459,
          "end_time": "2023-11-19T00:10:47.100343",
          "exception": false,
          "start_time": "2023-11-19T00:10:47.070884",
          "status": "completed"
        },
        "tags": [],
        "id": "78fc0bb8"
      },
      "outputs": [],
      "source": [
        "# Drop the unecessary column (numerical variables)\n",
        "df = df.drop(columns=['tweet_id'])"
      ]
    },
    {
      "cell_type": "code",
      "execution_count": null,
      "id": "552e4713",
      "metadata": {
        "execution": {
          "iopub.execute_input": "2023-11-19T00:10:47.137705Z",
          "iopub.status.busy": "2023-11-19T00:10:47.137238Z",
          "iopub.status.idle": "2023-11-19T00:10:47.167156Z",
          "shell.execute_reply": "2023-11-19T00:10:47.165515Z"
        },
        "papermill": {
          "duration": 0.050489,
          "end_time": "2023-11-19T00:10:47.169116",
          "exception": false,
          "start_time": "2023-11-19T00:10:47.118627",
          "status": "completed"
        },
        "tags": [],
        "id": "552e4713",
        "outputId": "782c2a28-b2e5-4cd6-98c9-082b00a73b51"
      },
      "outputs": [
        {
          "name": "stdout",
          "output_type": "stream",
          "text": [
            "Total duplicated rows: 91\n"
          ]
        }
      ],
      "source": [
        "# Count duplicates\n",
        "duplicates_count = df.duplicated().sum()\n",
        "print(f'Total duplicated rows: {duplicates_count}')"
      ]
    },
    {
      "cell_type": "code",
      "execution_count": null,
      "id": "e2567e9b",
      "metadata": {
        "execution": {
          "iopub.execute_input": "2023-11-19T00:10:47.203164Z",
          "iopub.status.busy": "2023-11-19T00:10:47.202391Z",
          "iopub.status.idle": "2023-11-19T00:10:47.222309Z",
          "shell.execute_reply": "2023-11-19T00:10:47.221602Z"
        },
        "papermill": {
          "duration": 0.039432,
          "end_time": "2023-11-19T00:10:47.224072",
          "exception": false,
          "start_time": "2023-11-19T00:10:47.184640",
          "status": "completed"
        },
        "tags": [],
        "id": "e2567e9b",
        "outputId": "eafcc6b4-1127-453b-b6f9-438a607b568c"
      },
      "outputs": [
        {
          "data": {
            "text/html": [
              "<div>\n",
              "<style scoped>\n",
              "    .dataframe tbody tr th:only-of-type {\n",
              "        vertical-align: middle;\n",
              "    }\n",
              "\n",
              "    .dataframe tbody tr th {\n",
              "        vertical-align: top;\n",
              "    }\n",
              "\n",
              "    .dataframe thead th {\n",
              "        text-align: right;\n",
              "    }\n",
              "</style>\n",
              "<table border=\"1\" class=\"dataframe\">\n",
              "  <thead>\n",
              "    <tr style=\"text-align: right;\">\n",
              "      <th></th>\n",
              "      <th>sentiment</th>\n",
              "      <th>content</th>\n",
              "    </tr>\n",
              "  </thead>\n",
              "  <tbody>\n",
              "    <tr>\n",
              "      <th>366</th>\n",
              "      <td>worry</td>\n",
              "      <td>I feel so deflated. No more doggy.</td>\n",
              "    </tr>\n",
              "    <tr>\n",
              "      <th>521</th>\n",
              "      <td>worry</td>\n",
              "      <td>Somebody please save the polar bears!</td>\n",
              "    </tr>\n",
              "    <tr>\n",
              "      <th>1026</th>\n",
              "      <td>neutral</td>\n",
              "      <td>I'm at work</td>\n",
              "    </tr>\n",
              "    <tr>\n",
              "      <th>3684</th>\n",
              "      <td>sadness</td>\n",
              "      <td>@dublins98dave me too! I am down 400 euro</td>\n",
              "    </tr>\n",
              "    <tr>\n",
              "      <th>4363</th>\n",
              "      <td>worry</td>\n",
              "      <td>is upset, I left my phone at home again</td>\n",
              "    </tr>\n",
              "    <tr>\n",
              "      <th>...</th>\n",
              "      <td>...</td>\n",
              "      <td>...</td>\n",
              "    </tr>\n",
              "    <tr>\n",
              "      <th>39859</th>\n",
              "      <td>love</td>\n",
              "      <td>Happy Mothers Day</td>\n",
              "    </tr>\n",
              "    <tr>\n",
              "      <th>39898</th>\n",
              "      <td>love</td>\n",
              "      <td>happy mothers day!</td>\n",
              "    </tr>\n",
              "    <tr>\n",
              "      <th>39913</th>\n",
              "      <td>happiness</td>\n",
              "      <td>happy mother's day!</td>\n",
              "    </tr>\n",
              "    <tr>\n",
              "      <th>39915</th>\n",
              "      <td>love</td>\n",
              "      <td>happy mother's day everyone</td>\n",
              "    </tr>\n",
              "    <tr>\n",
              "      <th>39945</th>\n",
              "      <td>love</td>\n",
              "      <td>Happy Mother's Day to all the moms out there!</td>\n",
              "    </tr>\n",
              "  </tbody>\n",
              "</table>\n",
              "<p>173 rows × 2 columns</p>\n",
              "</div>"
            ],
            "text/plain": [
              "       sentiment                                        content\n",
              "366        worry             I feel so deflated. No more doggy.\n",
              "521        worry          Somebody please save the polar bears!\n",
              "1026     neutral                                    I'm at work\n",
              "3684     sadness      @dublins98dave me too! I am down 400 euro\n",
              "4363       worry        is upset, I left my phone at home again\n",
              "...          ...                                            ...\n",
              "39859       love                              Happy Mothers Day\n",
              "39898       love                             happy mothers day!\n",
              "39913  happiness                            happy mother's day!\n",
              "39915       love                    happy mother's day everyone\n",
              "39945       love  Happy Mother's Day to all the moms out there!\n",
              "\n",
              "[173 rows x 2 columns]"
            ]
          },
          "execution_count": 8,
          "metadata": {},
          "output_type": "execute_result"
        }
      ],
      "source": [
        "# Check for duplicates\n",
        "df[df['content'].duplicated() == True]"
      ]
    },
    {
      "cell_type": "code",
      "execution_count": null,
      "id": "be6345a4",
      "metadata": {
        "execution": {
          "iopub.execute_input": "2023-11-19T00:10:47.256839Z",
          "iopub.status.busy": "2023-11-19T00:10:47.256493Z",
          "iopub.status.idle": "2023-11-19T00:10:47.273954Z",
          "shell.execute_reply": "2023-11-19T00:10:47.272701Z"
        },
        "papermill": {
          "duration": 0.036944,
          "end_time": "2023-11-19T00:10:47.276555",
          "exception": false,
          "start_time": "2023-11-19T00:10:47.239611",
          "status": "completed"
        },
        "tags": [],
        "id": "be6345a4"
      },
      "outputs": [],
      "source": [
        "# Drop duplicated values\n",
        "index = df[df['content'].duplicated() == True].index\n",
        "df.drop(index, axis = 0, inplace = True)\n",
        "df.reset_index(inplace=True, drop = True)"
      ]
    },
    {
      "cell_type": "code",
      "execution_count": null,
      "id": "d6565185",
      "metadata": {
        "execution": {
          "iopub.execute_input": "2023-11-19T00:10:47.397625Z",
          "iopub.status.busy": "2023-11-19T00:10:47.397111Z",
          "iopub.status.idle": "2023-11-19T00:10:47.402022Z",
          "shell.execute_reply": "2023-11-19T00:10:47.401239Z"
        },
        "papermill": {
          "duration": 0.025758,
          "end_time": "2023-11-19T00:10:47.404945",
          "exception": false,
          "start_time": "2023-11-19T00:10:47.379187",
          "status": "completed"
        },
        "tags": [],
        "id": "d6565185",
        "outputId": "6b4803ba-203d-4e87-dc1e-c0e6b38530dc"
      },
      "outputs": [
        {
          "data": {
            "text/plain": [
              "(39827, 2)"
            ]
          },
          "execution_count": 10,
          "metadata": {},
          "output_type": "execute_result"
        }
      ],
      "source": [
        "# Final shape of data after dropping duplicates\n",
        "df.shape"
      ]
    },
    {
      "cell_type": "markdown",
      "id": "230a805d",
      "metadata": {
        "papermill": {
          "duration": 0.016419,
          "end_time": "2023-11-19T00:10:47.439469",
          "exception": false,
          "start_time": "2023-11-19T00:10:47.423050",
          "status": "completed"
        },
        "tags": [],
        "id": "230a805d"
      },
      "source": [
        "# Data Exploration: Exploring Class"
      ]
    },
    {
      "cell_type": "code",
      "execution_count": null,
      "id": "843d1e3e",
      "metadata": {
        "execution": {
          "iopub.execute_input": "2023-11-19T00:10:47.475661Z",
          "iopub.status.busy": "2023-11-19T00:10:47.474976Z",
          "iopub.status.idle": "2023-11-19T00:10:47.482885Z",
          "shell.execute_reply": "2023-11-19T00:10:47.481907Z"
        },
        "papermill": {
          "duration": 0.028794,
          "end_time": "2023-11-19T00:10:47.485455",
          "exception": false,
          "start_time": "2023-11-19T00:10:47.456661",
          "status": "completed"
        },
        "tags": [],
        "id": "843d1e3e",
        "outputId": "aa44413c-c974-4ffa-a7f7-1e44e4a24497"
      },
      "outputs": [
        {
          "name": "stdout",
          "output_type": "stream",
          "text": [
            "['empty' 'sadness' 'enthusiasm' 'neutral' 'worry' 'surprise' 'love' 'fun'\n",
            " 'hate' 'happiness' 'boredom' 'relief' 'anger']\n"
          ]
        }
      ],
      "source": [
        "# Unique values from 'sentiment'\n",
        "unique_sentiments = df['sentiment'].unique()\n",
        "print(unique_sentiments)"
      ]
    },
    {
      "cell_type": "code",
      "execution_count": null,
      "id": "7d79d605",
      "metadata": {
        "execution": {
          "iopub.execute_input": "2023-11-19T00:10:47.521558Z",
          "iopub.status.busy": "2023-11-19T00:10:47.521061Z",
          "iopub.status.idle": "2023-11-19T00:10:47.535124Z",
          "shell.execute_reply": "2023-11-19T00:10:47.533852Z"
        },
        "papermill": {
          "duration": 0.0353,
          "end_time": "2023-11-19T00:10:47.537615",
          "exception": false,
          "start_time": "2023-11-19T00:10:47.502315",
          "status": "completed"
        },
        "tags": [],
        "id": "7d79d605",
        "outputId": "8028af0f-851a-40da-e5a8-d4f47c6fe28d"
      },
      "outputs": [
        {
          "name": "stdout",
          "output_type": "stream",
          "text": [
            "            Counts  Percentage\n",
            "sentiment                     \n",
            "neutral       8598   21.588370\n",
            "worry         8437   21.184121\n",
            "happiness     5184   13.016295\n",
            "sadness       5154   12.940970\n",
            "love          3785    9.503603\n",
            "surprise      2181    5.476184\n",
            "fun           1775    4.456776\n",
            "relief        1522    3.821528\n",
            "hate          1322    3.319356\n",
            "empty          822    2.063926\n",
            "enthusiasm     758    1.903231\n",
            "boredom        179    0.449444\n",
            "anger          110    0.276195\n",
            "\n",
            "total values: 13\n"
          ]
        }
      ],
      "source": [
        "# Frequency distribution of'sentiment'\n",
        "frequency_counts = df['sentiment'].value_counts()\n",
        "\n",
        "frequency_percentage = (frequency_counts / len(df['sentiment'])) * 100\n",
        "frequency_df = pd.DataFrame({'Counts': frequency_counts, 'Percentage': frequency_percentage})\n",
        "\n",
        "print(frequency_df)\n",
        "\n",
        "# Print total value\n",
        "cardinality = df['sentiment'].nunique()\n",
        "print(f\"\\ntotal values: {cardinality}\")"
      ]
    },
    {
      "cell_type": "code",
      "execution_count": null,
      "id": "318f89fa",
      "metadata": {
        "execution": {
          "iopub.execute_input": "2023-11-19T00:10:47.577038Z",
          "iopub.status.busy": "2023-11-19T00:10:47.576138Z",
          "iopub.status.idle": "2023-11-19T00:10:47.856486Z",
          "shell.execute_reply": "2023-11-19T00:10:47.855489Z"
        },
        "papermill": {
          "duration": 0.299941,
          "end_time": "2023-11-19T00:10:47.858761",
          "exception": false,
          "start_time": "2023-11-19T00:10:47.558820",
          "status": "completed"
        },
        "tags": [],
        "id": "318f89fa",
        "outputId": "2903fa65-2861-4af2-8acb-95fde7d08629"
      },
      "outputs": [
        {
          "data": {
            "image/png": "[encoded data removed]",
            "text/plain": [
              "<Figure size 640x480 with 1 Axes>"
            ]
          },
          "metadata": {},
          "output_type": "display_data"
        }
      ],
      "source": [
        "# Extract sentiment values & frequencies\n",
        "sentiment_counts = df['sentiment'].value_counts().sort_index()\n",
        "\n",
        "sentiments = sentiment_counts.index\n",
        "frequencies = sentiment_counts.values\n",
        "\n",
        "# Plot\n",
        "plt.barh(sentiments, frequencies, color='orange')\n",
        "plt.xlabel('Frequency')\n",
        "plt.ylabel('Sentiment')\n",
        "plt.title('Distribution of class \"sentiment\"')\n",
        "plt.gca().invert_yaxis()  # Invert the y-axis to have the highest sentiment at the top\n",
        "plt.show()"
      ]
    },
    {
      "cell_type": "markdown",
      "id": "fce8c259",
      "metadata": {
        "papermill": {
          "duration": 0.016742,
          "end_time": "2023-11-19T00:10:47.895344",
          "exception": false,
          "start_time": "2023-11-19T00:10:47.878602",
          "status": "completed"
        },
        "tags": [],
        "id": "fce8c259"
      },
      "source": [
        "Observations:\n",
        "- Classes are imbalanced - each class is not evenly distributed. Imbalance rate <21.32% (anger - neutral)\n",
        "- Tweets primarily convey neutral and negative sentiments"
      ]
    },
    {
      "cell_type": "markdown",
      "id": "60bc136d",
      "metadata": {
        "papermill": {
          "duration": 0.022539,
          "end_time": "2023-11-19T00:10:47.937764",
          "exception": false,
          "start_time": "2023-11-19T00:10:47.915225",
          "status": "completed"
        },
        "tags": [],
        "id": "60bc136d"
      },
      "source": [
        "# Data Exploration: Balancing Class\n",
        "\n",
        "The above result illustrates class imbalance of <21.32%.\n",
        "To find the best ratio, I've experimented with aggregating classes in **five different methods**:\n",
        "\n",
        "\n",
        "**Method 1:** Categorising the data into two primary emotions: Positive, Negative ('Surprise' and 'Neutral' as Negative).\n",
        "\n",
        "![image.png](attachment:ebebb32c-a927-4d3f-a713-1fab243868c2.png)\n",
        "\n",
        "\n",
        "**Method 2:** Categorising the data into two primary emotions: Positive, Negative ('Surprise' and 'Neutral' as Positive).\n",
        "\n",
        "![image.png](attachment:61cc04ef-9d84-48a7-b970-d90449ff3dd5.png)\n",
        "\n",
        "**Method 3:** Categorising the data into two primary emotions: Positive, Negative ('Neutral' as Positive, 'Surprise' as Negative).\n",
        "\n",
        "![image.png](attachment:1749bcb9-7192-477c-8bc3-41fc1cd72f0b.png)\n",
        "\n",
        "**Method 4:** Categorising the data into two primary emotions: Positive, Negative ('Surprise' as Positive, 'Neutral' as Negative).\n",
        "\n",
        "![image.png](attachment:60dce25e-b3e1-42c8-b4a8-510dfdc1b3ef.png)\n",
        "\n",
        "**Method 5:** Categorising the data into three primary emotions: Positive, Negative, and Neutral\n",
        "\n",
        "![image.png](attachment:02572fca-fddf-4ff8-a9fd-f017ee4d9fa9.png)\n",
        "\n",
        "\n",
        "When 'Surprise' and 'Neutral' are classified under a separate class 'Neutral', we encounter an imbalance of up to 13.17%, slightly above the general guideline.\n",
        "\n",
        "(General guideline: data is considered imbalanced when prevalence ≤ 10%)\n",
        "\n",
        "\n",
        "Among the 5 results, method 3 yielded the lowest imbalance at 8.58%. However, I would not choose this method primarily because 'neutral' and 'surprise' rely significantly on the context of the text for differentiation, unlike the others, which are clearly either positive or negative.\n",
        "\n",
        "'Neutral' typically represents a lack of strong emotion or a state of indifference. It's neither strongly positive nor negative.\n",
        "\n",
        "'Surprise' denotes a sudden feeling of astonishment or unexpectedness. It's transient and could be either positive or negative, depending on the context in which it occurs. For instance, a surprise party might evoke positive emotions, while a surprising piece of news might evoke negative emotions.\n",
        "\n",
        "Hence, it's not ideal to bias the neutral emotions towards either the positive or negative.\n"
      ]
    },
    {
      "cell_type": "code",
      "execution_count": null,
      "id": "f4a97d98",
      "metadata": {
        "execution": {
          "iopub.execute_input": "2023-11-19T00:10:47.975664Z",
          "iopub.status.busy": "2023-11-19T00:10:47.975201Z",
          "iopub.status.idle": "2023-11-19T00:10:47.985964Z",
          "shell.execute_reply": "2023-11-19T00:10:47.983492Z"
        },
        "papermill": {
          "duration": 0.03305,
          "end_time": "2023-11-19T00:10:47.988864",
          "exception": false,
          "start_time": "2023-11-19T00:10:47.955814",
          "status": "completed"
        },
        "tags": [],
        "id": "f4a97d98",
        "outputId": "bdfe57ad-e1aa-4402-fd08-4fb428b7d86a"
      },
      "outputs": [
        {
          "name": "stdout",
          "output_type": "stream",
          "text": [
            "['empty' 'sadness' 'enthusiasm' 'neutral' 'worry' 'surprise' 'love' 'fun'\n",
            " 'hate' 'happiness' 'boredom' 'relief' 'anger']\n"
          ]
        }
      ],
      "source": [
        "# Values from 'sentiment'\n",
        "unique_sentiments = df['sentiment'].unique()\n",
        "print(unique_sentiments)"
      ]
    },
    {
      "cell_type": "code",
      "execution_count": null,
      "id": "de44a4c1",
      "metadata": {
        "execution": {
          "iopub.execute_input": "2023-11-19T00:10:48.034148Z",
          "iopub.status.busy": "2023-11-19T00:10:48.032639Z",
          "iopub.status.idle": "2023-11-19T00:10:48.043903Z",
          "shell.execute_reply": "2023-11-19T00:10:48.043157Z"
        },
        "papermill": {
          "duration": 0.036014,
          "end_time": "2023-11-19T00:10:48.047564",
          "exception": false,
          "start_time": "2023-11-19T00:10:48.011550",
          "status": "completed"
        },
        "tags": [],
        "id": "de44a4c1"
      },
      "outputs": [],
      "source": [
        "# Code for Method 5: grouping 13 labels into 3 primary classes: 'negative', 'positive', 'neutral'\n",
        "sentiment_mapping = {\n",
        "    'empty': 'negative',\n",
        "    'sadness': 'negative',\n",
        "    'worry': 'negative',\n",
        "    'hate': 'negative',\n",
        "    'boredom': 'negative',\n",
        "    'anger': 'negative',\n",
        "    'enthusiasm': 'positive',\n",
        "    'neutral': 'neutral',\n",
        "    'surprise': 'neutral',\n",
        "    'love': 'positive',\n",
        "    'fun': 'positive',\n",
        "    'happiness': 'positive',\n",
        "    'relief': 'positive'\n",
        "}\n",
        "\n",
        "# Create a new col for the mapping\n",
        "df['label'] = df['sentiment'].map(sentiment_mapping)"
      ]
    },
    {
      "cell_type": "code",
      "execution_count": null,
      "id": "b41f868a",
      "metadata": {
        "execution": {
          "iopub.execute_input": "2023-11-19T00:10:48.094254Z",
          "iopub.status.busy": "2023-11-19T00:10:48.093885Z",
          "iopub.status.idle": "2023-11-19T00:10:48.101003Z",
          "shell.execute_reply": "2023-11-19T00:10:48.100270Z"
        },
        "papermill": {
          "duration": 0.032484,
          "end_time": "2023-11-19T00:10:48.103783",
          "exception": false,
          "start_time": "2023-11-19T00:10:48.071299",
          "status": "completed"
        },
        "tags": [],
        "id": "b41f868a"
      },
      "outputs": [],
      "source": [
        "# Drop the original column, 'sentiment'\n",
        "df = df.drop(columns=['sentiment'])"
      ]
    },
    {
      "cell_type": "code",
      "execution_count": null,
      "id": "a35c136e",
      "metadata": {
        "execution": {
          "iopub.execute_input": "2023-11-19T00:10:48.142091Z",
          "iopub.status.busy": "2023-11-19T00:10:48.141103Z",
          "iopub.status.idle": "2023-11-19T00:10:48.149135Z",
          "shell.execute_reply": "2023-11-19T00:10:48.148449Z"
        },
        "papermill": {
          "duration": 0.027845,
          "end_time": "2023-11-19T00:10:48.150714",
          "exception": false,
          "start_time": "2023-11-19T00:10:48.122869",
          "status": "completed"
        },
        "tags": [],
        "id": "a35c136e",
        "outputId": "0f4ed083-4aee-4f02-d34a-426484461f63"
      },
      "outputs": [
        {
          "name": "stdout",
          "output_type": "stream",
          "text": [
            "['negative' 'positive' 'neutral']\n"
          ]
        }
      ],
      "source": [
        "# Final check - Extract unique values from 'sentiment'\n",
        "import pandas as pd\n",
        "\n",
        "unique_sentiments = df['label'].unique()\n",
        "print(unique_sentiments)"
      ]
    },
    {
      "cell_type": "code",
      "execution_count": null,
      "id": "ae6fec20",
      "metadata": {
        "execution": {
          "iopub.execute_input": "2023-11-19T00:10:48.187471Z",
          "iopub.status.busy": "2023-11-19T00:10:48.186802Z",
          "iopub.status.idle": "2023-11-19T00:10:48.194946Z",
          "shell.execute_reply": "2023-11-19T00:10:48.194334Z"
        },
        "papermill": {
          "duration": 0.029214,
          "end_time": "2023-11-19T00:10:48.196794",
          "exception": false,
          "start_time": "2023-11-19T00:10:48.167580",
          "status": "completed"
        },
        "tags": [],
        "id": "ae6fec20",
        "outputId": "4f2fc1c5-0757-4d1c-9ecc-444ebc6b1da7"
      },
      "outputs": [
        {
          "data": {
            "text/html": [
              "<div>\n",
              "<style scoped>\n",
              "    .dataframe tbody tr th:only-of-type {\n",
              "        vertical-align: middle;\n",
              "    }\n",
              "\n",
              "    .dataframe tbody tr th {\n",
              "        vertical-align: top;\n",
              "    }\n",
              "\n",
              "    .dataframe thead th {\n",
              "        text-align: right;\n",
              "    }\n",
              "</style>\n",
              "<table border=\"1\" class=\"dataframe\">\n",
              "  <thead>\n",
              "    <tr style=\"text-align: right;\">\n",
              "      <th></th>\n",
              "      <th>content</th>\n",
              "      <th>label</th>\n",
              "    </tr>\n",
              "  </thead>\n",
              "  <tbody>\n",
              "    <tr>\n",
              "      <th>0</th>\n",
              "      <td>@tiffanylue i know  i was listenin to bad habi...</td>\n",
              "      <td>negative</td>\n",
              "    </tr>\n",
              "    <tr>\n",
              "      <th>1</th>\n",
              "      <td>Layin n bed with a headache  ughhhh...waitin o...</td>\n",
              "      <td>negative</td>\n",
              "    </tr>\n",
              "    <tr>\n",
              "      <th>2</th>\n",
              "      <td>Funeral ceremony...gloomy friday...</td>\n",
              "      <td>negative</td>\n",
              "    </tr>\n",
              "    <tr>\n",
              "      <th>3</th>\n",
              "      <td>wants to hang out with friends SOON!</td>\n",
              "      <td>positive</td>\n",
              "    </tr>\n",
              "    <tr>\n",
              "      <th>4</th>\n",
              "      <td>@dannycastillo We want to trade with someone w...</td>\n",
              "      <td>neutral</td>\n",
              "    </tr>\n",
              "  </tbody>\n",
              "</table>\n",
              "</div>"
            ],
            "text/plain": [
              "                                             content     label\n",
              "0  @tiffanylue i know  i was listenin to bad habi...  negative\n",
              "1  Layin n bed with a headache  ughhhh...waitin o...  negative\n",
              "2                Funeral ceremony...gloomy friday...  negative\n",
              "3               wants to hang out with friends SOON!  positive\n",
              "4  @dannycastillo We want to trade with someone w...   neutral"
            ]
          },
          "execution_count": 18,
          "metadata": {},
          "output_type": "execute_result"
        }
      ],
      "source": [
        "df.head(5)"
      ]
    },
    {
      "cell_type": "code",
      "execution_count": null,
      "id": "6e71bf74",
      "metadata": {
        "execution": {
          "iopub.execute_input": "2023-11-19T00:10:48.263980Z",
          "iopub.status.busy": "2023-11-19T00:10:48.263361Z",
          "iopub.status.idle": "2023-11-19T00:10:48.276585Z",
          "shell.execute_reply": "2023-11-19T00:10:48.275192Z"
        },
        "papermill": {
          "duration": 0.058371,
          "end_time": "2023-11-19T00:10:48.282302",
          "exception": false,
          "start_time": "2023-11-19T00:10:48.223931",
          "status": "completed"
        },
        "tags": [],
        "id": "6e71bf74",
        "outputId": "382b3c0f-5fce-466a-d11a-8453d64c1913"
      },
      "outputs": [
        {
          "name": "stdout",
          "output_type": "stream",
          "text": [
            "          Counts  Percentage\n",
            "label                       \n",
            "negative   16024   40.234012\n",
            "positive   13024   32.701434\n",
            "neutral    10779   27.064554\n",
            "\n",
            "total values: 3\n"
          ]
        }
      ],
      "source": [
        "# Calculate the frequency distribution of 'sentiment'\n",
        "frequency_counts = df['label'].value_counts()\n",
        "\n",
        "frequency_percentage = (frequency_counts / len(df['label'])) * 100\n",
        "frequency_df = pd.DataFrame({'Counts': frequency_counts, 'Percentage': frequency_percentage})\n",
        "\n",
        "print(frequency_df)\n",
        "\n",
        "# Total value count\n",
        "cardinality = df['label'].nunique()\n",
        "print(f\"\\ntotal values: {cardinality}\")"
      ]
    },
    {
      "cell_type": "code",
      "execution_count": null,
      "id": "4d29f46e",
      "metadata": {
        "execution": {
          "iopub.execute_input": "2023-11-19T00:10:48.330271Z",
          "iopub.status.busy": "2023-11-19T00:10:48.328702Z",
          "iopub.status.idle": "2023-11-19T00:10:48.511756Z",
          "shell.execute_reply": "2023-11-19T00:10:48.510321Z"
        },
        "papermill": {
          "duration": 0.206031,
          "end_time": "2023-11-19T00:10:48.514439",
          "exception": false,
          "start_time": "2023-11-19T00:10:48.308408",
          "status": "completed"
        },
        "tags": [],
        "id": "4d29f46e",
        "outputId": "3cbaee9e-cd62-421d-fc90-70219f42b2e4"
      },
      "outputs": [
        {
          "data": {
            "image/png": "[encoded data removed]",
            "text/plain": [
              "<Figure size 640x480 with 1 Axes>"
            ]
          },
          "metadata": {},
          "output_type": "display_data"
        }
      ],
      "source": [
        "sentiment_counts = df['label'].value_counts().sort_index()\n",
        "\n",
        "# Extract sentiment values & frequencies\n",
        "sentiments = sentiment_counts.index\n",
        "frequencies = sentiment_counts.values\n",
        "\n",
        "total = sum(frequencies)  # Calculate the total frequency\n",
        "\n",
        "plt.barh(sentiments, frequencies, color='orange')\n",
        "plt.xlabel('Frequency')\n",
        "plt.ylabel('Sentiment')\n",
        "plt.title('Distribution of the combined classes (sentiment)')\n",
        "plt.gca().invert_yaxis()\n",
        "\n",
        "# Annotate each bar with its percentage\n",
        "for index, value in enumerate(frequencies):\n",
        "    percentage = (value / total) * 100\n",
        "    plt.text(value - (max(frequencies) * 0.09), index, f'{percentage:.2f}%', ha='center', va='center', color='black')\n",
        "\n",
        "plt.show()"
      ]
    },
    {
      "cell_type": "code",
      "execution_count": null,
      "id": "d7f86a2c",
      "metadata": {
        "execution": {
          "iopub.execute_input": "2023-11-19T00:10:48.554703Z",
          "iopub.status.busy": "2023-11-19T00:10:48.554294Z",
          "iopub.status.idle": "2023-11-19T00:10:48.568734Z",
          "shell.execute_reply": "2023-11-19T00:10:48.567872Z"
        },
        "papermill": {
          "duration": 0.036927,
          "end_time": "2023-11-19T00:10:48.571118",
          "exception": false,
          "start_time": "2023-11-19T00:10:48.534191",
          "status": "completed"
        },
        "tags": [],
        "id": "d7f86a2c",
        "outputId": "c355c0a4-f2be-4c54-964a-4103d0d5e4a7"
      },
      "outputs": [
        {
          "data": {
            "text/html": [
              "<div>\n",
              "<style scoped>\n",
              "    .dataframe tbody tr th:only-of-type {\n",
              "        vertical-align: middle;\n",
              "    }\n",
              "\n",
              "    .dataframe tbody tr th {\n",
              "        vertical-align: top;\n",
              "    }\n",
              "\n",
              "    .dataframe thead th {\n",
              "        text-align: right;\n",
              "    }\n",
              "</style>\n",
              "<table border=\"1\" class=\"dataframe\">\n",
              "  <thead>\n",
              "    <tr style=\"text-align: right;\">\n",
              "      <th></th>\n",
              "      <th>content</th>\n",
              "      <th>label_num</th>\n",
              "    </tr>\n",
              "  </thead>\n",
              "  <tbody>\n",
              "    <tr>\n",
              "      <th>0</th>\n",
              "      <td>@tiffanylue i know  i was listenin to bad habi...</td>\n",
              "      <td>0</td>\n",
              "    </tr>\n",
              "    <tr>\n",
              "      <th>1</th>\n",
              "      <td>Layin n bed with a headache  ughhhh...waitin o...</td>\n",
              "      <td>0</td>\n",
              "    </tr>\n",
              "    <tr>\n",
              "      <th>2</th>\n",
              "      <td>Funeral ceremony...gloomy friday...</td>\n",
              "      <td>0</td>\n",
              "    </tr>\n",
              "    <tr>\n",
              "      <th>3</th>\n",
              "      <td>wants to hang out with friends SOON!</td>\n",
              "      <td>1</td>\n",
              "    </tr>\n",
              "    <tr>\n",
              "      <th>4</th>\n",
              "      <td>@dannycastillo We want to trade with someone w...</td>\n",
              "      <td>2</td>\n",
              "    </tr>\n",
              "  </tbody>\n",
              "</table>\n",
              "</div>"
            ],
            "text/plain": [
              "                                             content  label_num\n",
              "0  @tiffanylue i know  i was listenin to bad habi...          0\n",
              "1  Layin n bed with a headache  ughhhh...waitin o...          0\n",
              "2                Funeral ceremony...gloomy friday...          0\n",
              "3               wants to hang out with friends SOON!          1\n",
              "4  @dannycastillo We want to trade with someone w...          2"
            ]
          },
          "execution_count": 21,
          "metadata": {},
          "output_type": "execute_result"
        }
      ],
      "source": [
        "# Mapping sentiment num / encode\n",
        "df[\"label_num\"] = df.label.map({\n",
        "    'negative': 0,\n",
        "    'positive': 1,\n",
        "    'neutral': 2\n",
        "})\n",
        "\n",
        "df = df.drop(columns=['label'])\n",
        "df.head(5)"
      ]
    },
    {
      "cell_type": "code",
      "execution_count": null,
      "id": "d2f3c21e",
      "metadata": {
        "execution": {
          "iopub.execute_input": "2023-11-19T00:10:48.606380Z",
          "iopub.status.busy": "2023-11-19T00:10:48.605506Z",
          "iopub.status.idle": "2023-11-19T00:10:48.611414Z",
          "shell.execute_reply": "2023-11-19T00:10:48.610409Z"
        },
        "papermill": {
          "duration": 0.025057,
          "end_time": "2023-11-19T00:10:48.613134",
          "exception": false,
          "start_time": "2023-11-19T00:10:48.588077",
          "status": "completed"
        },
        "tags": [],
        "id": "d2f3c21e",
        "outputId": "76ac74e8-6c54-4f1d-d4b8-b3a03611240c"
      },
      "outputs": [
        {
          "name": "stdout",
          "output_type": "stream",
          "text": [
            "39827\n",
            "39827\n"
          ]
        }
      ],
      "source": [
        "X = df['content']\n",
        "y = df['label_num']\n",
        "\n",
        "# Making sure that X y have the same length\n",
        "print(len(X))\n",
        "print(len(y))"
      ]
    },
    {
      "cell_type": "markdown",
      "id": "2262d3b9",
      "metadata": {
        "papermill": {
          "duration": 0.016121,
          "end_time": "2023-11-19T00:10:48.645730",
          "exception": false,
          "start_time": "2023-11-19T00:10:48.629609",
          "status": "completed"
        },
        "tags": [],
        "id": "2262d3b9"
      },
      "source": [
        "# Preprocessing: Data Cleaning"
      ]
    },
    {
      "cell_type": "code",
      "execution_count": null,
      "id": "6b378ee1",
      "metadata": {
        "execution": {
          "iopub.execute_input": "2023-11-19T00:10:48.680357Z",
          "iopub.status.busy": "2023-11-19T00:10:48.679769Z",
          "iopub.status.idle": "2023-11-19T00:10:53.135814Z",
          "shell.execute_reply": "2023-11-19T00:10:53.133910Z"
        },
        "papermill": {
          "duration": 4.476663,
          "end_time": "2023-11-19T00:10:53.138896",
          "exception": false,
          "start_time": "2023-11-19T00:10:48.662233",
          "status": "completed"
        },
        "tags": [],
        "id": "6b378ee1"
      },
      "outputs": [],
      "source": [
        "# Cleaning and lemmatising\n",
        "cleaned = []\n",
        "\n",
        "for sen in range(0, len(X)):\n",
        "    # Remove all the special characters (any letter or a digit)\n",
        "    document = re.sub(r'\\W', ' ', str(X[sen]))\n",
        "\n",
        "    # remove all single characters (surrounded by whitespace)\n",
        "    document = re.sub(r'\\s+[a-zA-Z]\\s+', ' ', document)\n",
        "\n",
        "    # Remove single characters from the start\n",
        "    document = re.sub(r'\\^[a-zA-Z]\\s+', ' ', document)\n",
        "\n",
        "    # Substituting multiple spaces with single space\n",
        "    document = re.sub(r'\\s+', ' ', document, flags=re.I)\n",
        "\n",
        "    # Removing prefixed 'b'\n",
        "    document = re.sub(r'^b\\s+', '', document)\n",
        "\n",
        "    # Converting to Lowercase\n",
        "    document = document.lower()\n",
        "\n",
        "    # Lemmatization- splits into list of words ['The', 'quick', ....]\n",
        "    document = document.split()\n",
        "\n",
        "    lemma = WordNetLemmatizer()\n",
        "    document = [lemma.lemmatize(word) for word in document]\n",
        "    document = ' '.join(document)\n",
        "    cleaned.append(document)"
      ]
    },
    {
      "cell_type": "code",
      "execution_count": null,
      "id": "ca56dee4",
      "metadata": {
        "execution": {
          "iopub.execute_input": "2023-11-19T00:10:53.177090Z",
          "iopub.status.busy": "2023-11-19T00:10:53.175552Z",
          "iopub.status.idle": "2023-11-19T00:10:53.182696Z",
          "shell.execute_reply": "2023-11-19T00:10:53.181687Z"
        },
        "papermill": {
          "duration": 0.027272,
          "end_time": "2023-11-19T00:10:53.184531",
          "exception": false,
          "start_time": "2023-11-19T00:10:53.157259",
          "status": "completed"
        },
        "tags": [],
        "id": "ca56dee4",
        "outputId": "0d2c8446-3994-41ac-fad3-49b8e9b8626e"
      },
      "outputs": [
        {
          "data": {
            "text/plain": [
              "39827"
            ]
          },
          "execution_count": 24,
          "metadata": {},
          "output_type": "execute_result"
        }
      ],
      "source": [
        "# Making sure that cleaned data has the same length as X\n",
        "len(cleaned)"
      ]
    },
    {
      "cell_type": "markdown",
      "id": "18e8cd54",
      "metadata": {
        "papermill": {
          "duration": 0.017149,
          "end_time": "2023-11-19T00:10:53.219504",
          "exception": false,
          "start_time": "2023-11-19T00:10:53.202355",
          "status": "completed"
        },
        "tags": [],
        "id": "18e8cd54"
      },
      "source": [
        "# Preprocessing: Exploring Cleaned Data & Investigating Stopwords in Text"
      ]
    },
    {
      "cell_type": "code",
      "execution_count": null,
      "id": "ff2a7b1f",
      "metadata": {
        "execution": {
          "iopub.execute_input": "2023-11-19T00:10:53.258103Z",
          "iopub.status.busy": "2023-11-19T00:10:53.257660Z",
          "iopub.status.idle": "2023-11-19T00:11:05.310846Z",
          "shell.execute_reply": "2023-11-19T00:11:05.309213Z"
        },
        "papermill": {
          "duration": 12.075178,
          "end_time": "2023-11-19T00:11:05.312856",
          "exception": false,
          "start_time": "2023-11-19T00:10:53.237678",
          "status": "completed"
        },
        "tags": [],
        "id": "ff2a7b1f",
        "outputId": "ab559696-2149-43c7-d430-7b8545f8c9bb"
      },
      "outputs": [
        {
          "name": "stderr",
          "output_type": "stream",
          "text": [
            "[nltk_data] Downloading package punkt to /usr/share/nltk_data...\n",
            "[nltk_data]   Package punkt is already up-to-date!\n"
          ]
        }
      ],
      "source": [
        "# Count stopwords present in the data\n",
        "nltk.download('punkt')\n",
        "def count_stopwords(text):\n",
        "    stop_words = set(stopwords.words(\"english\"))\n",
        "    words = nltk.word_tokenize(text)\n",
        "    return len(set(words) & stop_words)\n",
        "\n",
        "# Add a new col 'stop_words' that contains the count of stopwords\n",
        "df['stop_words'] = df['content'].apply(count_stopwords)\n",
        "value_counts = df['stop_words'].value_counts()"
      ]
    },
    {
      "cell_type": "code",
      "execution_count": null,
      "id": "4518999d",
      "metadata": {
        "execution": {
          "iopub.execute_input": "2023-11-19T00:11:05.348470Z",
          "iopub.status.busy": "2023-11-19T00:11:05.347970Z",
          "iopub.status.idle": "2023-11-19T00:11:05.465026Z",
          "shell.execute_reply": "2023-11-19T00:11:05.463048Z"
        },
        "papermill": {
          "duration": 0.137269,
          "end_time": "2023-11-19T00:11:05.467136",
          "exception": false,
          "start_time": "2023-11-19T00:11:05.329867",
          "status": "completed"
        },
        "tags": [],
        "id": "4518999d",
        "outputId": "17f1a4c4-8f7d-4801-af08-cdcc9f9d0f3f"
      },
      "outputs": [
        {
          "name": "stdout",
          "output_type": "stream",
          "text": [
            "                                                 content  label_num  \\\n",
            "0      @tiffanylue i know  i was listenin to bad habi...          0   \n",
            "1      Layin n bed with a headache  ughhhh...waitin o...          0   \n",
            "3                   wants to hang out with friends SOON!          1   \n",
            "4      @dannycastillo We want to trade with someone w...          2   \n",
            "5      Re-pinging @ghostridah14: why didn't you go to...          0   \n",
            "...                                                  ...        ...   \n",
            "39819  @jasimmo Ooo showing of your French skills!! l...          2   \n",
            "39820  @sendsome2me haha, yeah. Twitter has many uses...          2   \n",
            "39823                     Happy Mothers Day  All my love          1   \n",
            "39824  Happy Mother's Day to all the mommies out ther...          1   \n",
            "39826  @mopedronin bullet train from tokyo    the gf ...          1   \n",
            "\n",
            "       stop_words  \n",
            "0               6  \n",
            "1               4  \n",
            "3               3  \n",
            "4               6  \n",
            "5               5  \n",
            "...           ...  \n",
            "39819           6  \n",
            "39820          11  \n",
            "39823           1  \n",
            "39824          12  \n",
            "39826           6  \n",
            "\n",
            "[36279 rows x 3 columns]\n"
          ]
        }
      ],
      "source": [
        "# Count the number of stopwords in the data\n",
        "temp = df.copy()\n",
        "stop_words = set(stopwords.words(\"english\"))\n",
        "temp['stop_words'] = temp['content'].apply(lambda x: len(set(x.split()) & stop_words))\n",
        "\n",
        "# Print rows that contain stopwords\n",
        "rows_with_stopwords = temp[temp['stop_words'] > 0]\n",
        "print(rows_with_stopwords)"
      ]
    },
    {
      "cell_type": "code",
      "execution_count": null,
      "id": "09f7e0bd",
      "metadata": {
        "execution": {
          "iopub.execute_input": "2023-11-19T00:11:05.505614Z",
          "iopub.status.busy": "2023-11-19T00:11:05.505140Z",
          "iopub.status.idle": "2023-11-19T00:11:05.513228Z",
          "shell.execute_reply": "2023-11-19T00:11:05.511844Z"
        },
        "papermill": {
          "duration": 0.030402,
          "end_time": "2023-11-19T00:11:05.515427",
          "exception": false,
          "start_time": "2023-11-19T00:11:05.485025",
          "status": "completed"
        },
        "tags": [],
        "id": "09f7e0bd",
        "outputId": "17818240-0e22-4f19-fa10-1165489d8252"
      },
      "outputs": [
        {
          "data": {
            "text/plain": [
              "'wants to hang out with friends SOON!'"
            ]
          },
          "execution_count": 27,
          "metadata": {},
          "output_type": "execute_result"
        }
      ],
      "source": [
        "# Explore tweet that contains stopwords\n",
        "df['content'][3]\n",
        "# df.loc[3]"
      ]
    },
    {
      "cell_type": "code",
      "execution_count": null,
      "id": "a53f02c7",
      "metadata": {
        "execution": {
          "iopub.execute_input": "2023-11-19T00:11:05.553556Z",
          "iopub.status.busy": "2023-11-19T00:11:05.553102Z",
          "iopub.status.idle": "2023-11-19T00:11:05.560565Z",
          "shell.execute_reply": "2023-11-19T00:11:05.559573Z"
        },
        "papermill": {
          "duration": 0.029199,
          "end_time": "2023-11-19T00:11:05.562410",
          "exception": false,
          "start_time": "2023-11-19T00:11:05.533211",
          "status": "completed"
        },
        "tags": [],
        "id": "a53f02c7",
        "outputId": "ac5ce984-b06f-4d85-da26-540811ced9c3"
      },
      "outputs": [
        {
          "data": {
            "text/plain": [
              "3"
            ]
          },
          "execution_count": 28,
          "metadata": {},
          "output_type": "execute_result"
        }
      ],
      "source": [
        "# Count stopwords in index 3\n",
        "stop_words = set(stopwords.words(\"english\"))\n",
        "df_indx = df['content'][3]\n",
        "stopword_count = len([word for word in df_indx.split() if word in stop_words])\n",
        "stopword_count"
      ]
    },
    {
      "cell_type": "code",
      "execution_count": null,
      "id": "291b371e",
      "metadata": {
        "execution": {
          "iopub.execute_input": "2023-11-19T00:11:05.599420Z",
          "iopub.status.busy": "2023-11-19T00:11:05.598878Z",
          "iopub.status.idle": "2023-11-19T00:11:05.607032Z",
          "shell.execute_reply": "2023-11-19T00:11:05.606039Z"
        },
        "papermill": {
          "duration": 0.02992,
          "end_time": "2023-11-19T00:11:05.609937",
          "exception": false,
          "start_time": "2023-11-19T00:11:05.580017",
          "status": "completed"
        },
        "tags": [],
        "id": "291b371e",
        "outputId": "bfd4f2b3-e628-49ad-b347-284b07775ec9"
      },
      "outputs": [
        {
          "name": "stdout",
          "output_type": "stream",
          "text": [
            "Stopwords in df['content'][3]:\n",
            "['to', 'out', 'with']\n"
          ]
        },
        {
          "data": {
            "text/plain": [
              "\"\\nThe cleaned sentence from 4th row, ['wants to hang out with friends SOON!']\\ncontains 3 stopwords, 'to', 'out', and 'with'\\n\""
            ]
          },
          "execution_count": 29,
          "metadata": {},
          "output_type": "execute_result"
        }
      ],
      "source": [
        "# Print all the stopwords in index 3\n",
        "stopwords_in_content = [word for word in df_indx.split() if word in stop_words]\n",
        "\n",
        "print(\"Stopwords in df['content'][3]:\")\n",
        "print(stopwords_in_content)\n",
        "\n",
        "'''\n",
        "The cleaned sentence from 4th row, ['wants to hang out with friends SOON!']\n",
        "contains 3 stopwords, 'to', 'out', and 'with'\n",
        "'''"
      ]
    },
    {
      "cell_type": "markdown",
      "id": "caf838ac",
      "metadata": {
        "papermill": {
          "duration": 0.017817,
          "end_time": "2023-11-19T00:11:05.647313",
          "exception": false,
          "start_time": "2023-11-19T00:11:05.629496",
          "status": "completed"
        },
        "tags": [],
        "id": "caf838ac"
      },
      "source": [
        "# Preprocessing: Tokenisation"
      ]
    },
    {
      "cell_type": "code",
      "execution_count": null,
      "id": "c65f81f7",
      "metadata": {
        "execution": {
          "iopub.execute_input": "2023-11-19T00:11:05.687388Z",
          "iopub.status.busy": "2023-11-19T00:11:05.686933Z",
          "iopub.status.idle": "2023-11-19T00:11:06.287951Z",
          "shell.execute_reply": "2023-11-19T00:11:06.287148Z"
        },
        "papermill": {
          "duration": 0.62331,
          "end_time": "2023-11-19T00:11:06.289690",
          "exception": false,
          "start_time": "2023-11-19T00:11:05.666380",
          "status": "completed"
        },
        "tags": [],
        "id": "c65f81f7",
        "outputId": "bd4cd6c7-c8f6-45df-9b6c-5ffb5d129977"
      },
      "outputs": [
        {
          "name": "stdout",
          "output_type": "stream",
          "text": [
            "<class 'list'>\n",
            "39827\n",
            "tiffanylue know wa listenin to bad habit earlier and started freakin at his part\n",
            "layin bed with headache ughhhh waitin on your call\n",
            "funeral ceremony gloomy friday\n",
            "want to hang out with friend soon\n",
            "dannycastillo we want to trade with someone who ha houston ticket but no one will\n",
            "re pinging ghostridah14 why didn you go to prom bc my bf didn like my friend\n",
            "i should be sleep but im not thinking about an old friend who want but he married now damn amp he want me 2 scandalous\n",
            "hmmm http www djhero com is down\n",
            "charviray charlene my love miss you\n",
            "kelcouch m sorry at least it friday\n",
            "cant fall asleep\n",
            "choked on her retainer\n",
            "ugh have to beat this stupid song to get to the next rude\n",
            "brodyjenner if watch the hill in london will realise what tourture it is because were week and week late just watch itonlinelol\n",
            "got the news\n"
          ]
        }
      ],
      "source": [
        "cleaned_tokenized = []\n",
        "for each in cleaned:\n",
        "    doc = sent_tokenize(each)\n",
        "    for sentence in doc:\n",
        "        cleaned_tokenized.append(sentence)\n",
        "\n",
        "# Type and length of the cleaned & tokenised sentence\n",
        "print(type(cleaned_tokenized))\n",
        "print(len(cleaned_tokenized))\n",
        "\n",
        "# Print the fist 15 lines of the cleaned & tokenised sentence\n",
        "for i in range(15):\n",
        "  print(cleaned_tokenized[i])"
      ]
    },
    {
      "cell_type": "code",
      "execution_count": null,
      "id": "6c436737",
      "metadata": {
        "execution": {
          "iopub.execute_input": "2023-11-19T00:11:06.326755Z",
          "iopub.status.busy": "2023-11-19T00:11:06.326227Z",
          "iopub.status.idle": "2023-11-19T00:11:06.339491Z",
          "shell.execute_reply": "2023-11-19T00:11:06.338410Z"
        },
        "papermill": {
          "duration": 0.034016,
          "end_time": "2023-11-19T00:11:06.341301",
          "exception": false,
          "start_time": "2023-11-19T00:11:06.307285",
          "status": "completed"
        },
        "tags": [],
        "id": "6c436737"
      },
      "outputs": [],
      "source": [
        "# Crate a new colum that contains processed text\n",
        "df['processed_content'] = cleaned_tokenized\n",
        "\n",
        "# Reorder col\n",
        "desired_order = ['content', 'processed_content', 'label_num']\n",
        "df = df[desired_order]\n",
        "df.head(10)\n",
        "\n",
        "X = cleaned_tokenized"
      ]
    },
    {
      "cell_type": "code",
      "execution_count": null,
      "id": "92512354",
      "metadata": {
        "execution": {
          "iopub.execute_input": "2023-11-19T00:11:06.378361Z",
          "iopub.status.busy": "2023-11-19T00:11:06.377403Z",
          "iopub.status.idle": "2023-11-19T00:11:06.385685Z",
          "shell.execute_reply": "2023-11-19T00:11:06.384919Z"
        },
        "papermill": {
          "duration": 0.028836,
          "end_time": "2023-11-19T00:11:06.387369",
          "exception": false,
          "start_time": "2023-11-19T00:11:06.358533",
          "status": "completed"
        },
        "tags": [],
        "id": "92512354",
        "outputId": "f3e854da-34b8-4e96-fd12-3b834d778821"
      },
      "outputs": [
        {
          "data": {
            "text/plain": [
              "content              wants to hang out with friends SOON!\n",
              "processed_content       want to hang out with friend soon\n",
              "label_num                                               1\n",
              "Name: 3, dtype: object"
            ]
          },
          "execution_count": 32,
          "metadata": {},
          "output_type": "execute_result"
        }
      ],
      "source": [
        "# Pick a random row, count SW in that sentence\n",
        "df.loc[3]"
      ]
    },
    {
      "cell_type": "markdown",
      "id": "95cd05b3",
      "metadata": {
        "papermill": {
          "duration": 0.018708,
          "end_time": "2023-11-19T00:11:06.426105",
          "exception": false,
          "start_time": "2023-11-19T00:11:06.407397",
          "status": "completed"
        },
        "tags": [],
        "id": "95cd05b3"
      },
      "source": [
        "# Feature Engineering: Vectorising Using TF-IDF"
      ]
    },
    {
      "cell_type": "code",
      "execution_count": null,
      "id": "fd143169",
      "metadata": {
        "execution": {
          "iopub.execute_input": "2023-11-19T00:11:06.465861Z",
          "iopub.status.busy": "2023-11-19T00:11:06.465523Z",
          "iopub.status.idle": "2023-11-19T00:11:09.420107Z",
          "shell.execute_reply": "2023-11-19T00:11:09.419169Z"
        },
        "papermill": {
          "duration": 2.977626,
          "end_time": "2023-11-19T00:11:09.422860",
          "exception": false,
          "start_time": "2023-11-19T00:11:06.445234",
          "status": "completed"
        },
        "tags": [],
        "id": "fd143169"
      },
      "outputs": [],
      "source": [
        "count_vectorizer = CountVectorizer()\n",
        "count_vectorizer.fit_transform(X)\n",
        "freq_term_matrix = count_vectorizer.transform(X)      # CV sparse matrix\n",
        "\n",
        "tfidf = TfidfTransformer(norm = \"l2\")\n",
        "tfidf.fit(freq_term_matrix)\n",
        "tf_idf_matrix = tfidf.fit_transform(freq_term_matrix) # tf-idf sparse matrix\n",
        "# print(tf_idf_matrix)\n",
        "dense_tf_idf_matrix = tf_idf_matrix.toarray()         # tf-idf dense matrix\n",
        "# print(dense_tf_idf_matrix)\n",
        "\n",
        "X_train, X_test, y_train, y_test = train_test_split(tf_idf_matrix, y, test_size=0.2, random_state=42)"
      ]
    },
    {
      "cell_type": "markdown",
      "id": "f23843d8",
      "metadata": {
        "papermill": {
          "duration": 0.017481,
          "end_time": "2023-11-19T00:11:09.459493",
          "exception": false,
          "start_time": "2023-11-19T00:11:09.442012",
          "status": "completed"
        },
        "tags": [],
        "id": "f23843d8"
      },
      "source": [
        "# Model Training/Testing/Evaluation: MNB"
      ]
    },
    {
      "cell_type": "code",
      "execution_count": null,
      "id": "cad19ec8",
      "metadata": {
        "execution": {
          "iopub.execute_input": "2023-11-19T00:11:09.496535Z",
          "iopub.status.busy": "2023-11-19T00:11:09.496192Z",
          "iopub.status.idle": "2023-11-19T00:11:10.073276Z",
          "shell.execute_reply": "2023-11-19T00:11:10.072389Z"
        },
        "papermill": {
          "duration": 0.598125,
          "end_time": "2023-11-19T00:11:10.075159",
          "exception": false,
          "start_time": "2023-11-19T00:11:09.477034",
          "status": "completed"
        },
        "tags": [],
        "id": "cad19ec8",
        "outputId": "12614a13-5a54-4401-cd3e-55dfa9905441"
      },
      "outputs": [
        {
          "name": "stdout",
          "output_type": "stream",
          "text": [
            "Classification Report (Cross-Validation):\n",
            "               precision    recall  f1-score   support\n",
            "\n",
            "           0       0.49      0.92      0.64     12834\n",
            "           1       0.63      0.45      0.53     10395\n",
            "           2       0.53      0.02      0.05      8632\n",
            "\n",
            "    accuracy                           0.53     31861\n",
            "   macro avg       0.55      0.47      0.41     31861\n",
            "weighted avg       0.55      0.53      0.44     31861\n",
            "\n",
            "Accuracy (Cross-Validation): 0.5254386240231004\n",
            "Classification Report (Test Data):\n",
            "               precision    recall  f1-score   support\n",
            "\n",
            "           0       0.49      0.91      0.64      3190\n",
            "           1       0.65      0.49      0.56      2629\n",
            "           2       0.50      0.03      0.05      2147\n",
            "\n",
            "    accuracy                           0.53      7966\n",
            "   macro avg       0.55      0.48      0.42      7966\n",
            "weighted avg       0.55      0.53      0.46      7966\n",
            "\n",
            "Accuracy (Test Data): 0.5333919156414763\n"
          ]
        },
        {
          "data": {
            "image/png": "[encoded data removed]",
            "text/plain": [
              "<Figure size 800x600 with 1 Axes>"
            ]
          },
          "metadata": {},
          "output_type": "display_data"
        }
      ],
      "source": [
        "model = MultinomialNB()\n",
        "\n",
        "# Train\n",
        "model.fit(X_train, y_train)\n",
        "\n",
        "# Test\n",
        "y_pred = model.predict(X_test)\n",
        "\n",
        "# Evaluate\n",
        "cv = StratifiedKFold(n_splits=5, shuffle=True, random_state=42)\n",
        "\n",
        "y_pred_cv = cross_val_predict(model, X_train, y_train, cv=cv)\n",
        "\n",
        "classification_rep = classification_report(y_train, y_pred_cv)\n",
        "print(\"Classification Report (Cross-Validation):\\n\", classification_rep)\n",
        "\n",
        "accuracy = accuracy_score(y_train, y_pred_cv)\n",
        "print(\"Accuracy (Cross-Validation):\", accuracy)\n",
        "\n",
        "model.fit(X_train, y_train)\n",
        "y_pred_test = model.predict(X_test)\n",
        "\n",
        "classification_rep_test = classification_report(y_test, y_pred_test)\n",
        "print(\"Classification Report (Test Data):\\n\", classification_rep_test)\n",
        "\n",
        "accuracy_test = accuracy_score(y_test, y_pred_test)\n",
        "print(\"Accuracy (Test Data):\", accuracy_test)\n",
        "\n",
        "import seaborn as sns\n",
        "import matplotlib.pyplot as plt\n",
        "from sklearn.metrics import confusion_matrix\n",
        "\n",
        "# Calculating the confusion matrix\n",
        "confusion_mat = confusion_matrix(y_test, y_pred)\n",
        "\n",
        "# Heatmap of the confusion matrix\n",
        "plt.figure(figsize=(8, 6))\n",
        "sns.heatmap(confusion_mat, annot=True, fmt='d', cmap='Blues', cbar=False)\n",
        "plt.xlabel('Predicted Labels')\n",
        "plt.ylabel('True Labels')\n",
        "plt.title('Confusion Matrix NB')\n",
        "plt.show()"
      ]
    },
    {
      "cell_type": "markdown",
      "id": "6f5a7857",
      "metadata": {
        "papermill": {
          "duration": 0.019466,
          "end_time": "2023-11-19T00:11:10.115333",
          "exception": false,
          "start_time": "2023-11-19T00:11:10.095867",
          "status": "completed"
        },
        "tags": [],
        "id": "6f5a7857"
      },
      "source": [
        "# Model Training/Testing/Evaluation: MLP"
      ]
    },
    {
      "cell_type": "code",
      "execution_count": null,
      "id": "0d81e66a",
      "metadata": {
        "execution": {
          "iopub.execute_input": "2023-11-19T00:11:10.158507Z",
          "iopub.status.busy": "2023-11-19T00:11:10.158120Z",
          "iopub.status.idle": "2023-11-19T00:56:31.595365Z",
          "shell.execute_reply": "2023-11-19T00:56:31.594059Z"
        },
        "papermill": {
          "duration": 2721.461881,
          "end_time": "2023-11-19T00:56:31.597457",
          "exception": false,
          "start_time": "2023-11-19T00:11:10.135576",
          "status": "completed"
        },
        "tags": [],
        "id": "0d81e66a",
        "outputId": "d64d6773-3de3-4d0b-b50a-cc2e57af268b"
      },
      "outputs": [
        {
          "name": "stdout",
          "output_type": "stream",
          "text": [
            "Accuracy: 0.5233\n",
            "Precision: 0.5242\n",
            "Recall: 0.5233\n",
            "F1-score: 0.5235\n"
          ]
        },
        {
          "data": {
            "image/png": "[encoded data removed]",
            "text/plain": [
              "<Figure size 1000x600 with 1 Axes>"
            ]
          },
          "metadata": {},
          "output_type": "display_data"
        }
      ],
      "source": [
        "mlp_model = MLPClassifier(hidden_layer_sizes=(100, 100), alpha = 0.01, max_iter=100)\n",
        "\n",
        "# Train\n",
        "history = mlp_model.fit(X_train, y_train)\n",
        "\n",
        "# Test\n",
        "y_pred = mlp_model.predict(X_test)\n",
        "\n",
        "# Evaluate\n",
        "accuracy = accuracy_score(y_test, y_pred)\n",
        "precision = precision_score(y_test, y_pred, average='weighted')\n",
        "recall = recall_score(y_test, y_pred, average='weighted')\n",
        "f1 = f1_score(y_test, y_pred, average='weighted')\n",
        "\n",
        "print(f\"Accuracy: {accuracy:.4f}\")\n",
        "print(f\"Precision: {precision:.4f}\")\n",
        "print(f\"Recall: {recall:.4f}\")\n",
        "print(f\"F1-score: {f1:.4f}\")\n",
        "\n",
        "train_loss = history.loss_curve_\n",
        "num_epochs = len(train_loss)\n",
        "\n",
        "epochs = range(1, num_epochs + 1)\n",
        "\n",
        "plt.figure(figsize=(10, 6))\n",
        "plt.plot(epochs, train_loss, 'b', label='Training loss')\n",
        "plt.title('Training Loss Curve')\n",
        "plt.xlabel('Epochs')\n",
        "plt.ylabel('Loss')\n",
        "plt.legend()\n",
        "plt.grid(True)\n",
        "plt.show()"
      ]
    },
    {
      "cell_type": "markdown",
      "id": "bbdafc41",
      "metadata": {
        "papermill": {
          "duration": 0.01948,
          "end_time": "2023-11-19T00:56:31.638159",
          "exception": false,
          "start_time": "2023-11-19T00:56:31.618679",
          "status": "completed"
        },
        "tags": [],
        "id": "bbdafc41"
      },
      "source": [
        "# Model Training/Testing/Evaluation: SVM"
      ]
    },
    {
      "cell_type": "code",
      "execution_count": null,
      "id": "6be8f28e",
      "metadata": {
        "execution": {
          "iopub.execute_input": "2023-11-19T00:56:31.679691Z",
          "iopub.status.busy": "2023-11-19T00:56:31.679218Z",
          "iopub.status.idle": "2023-11-19T01:02:35.066325Z",
          "shell.execute_reply": "2023-11-19T01:02:35.064930Z"
        },
        "papermill": {
          "duration": 363.428363,
          "end_time": "2023-11-19T01:02:35.086045",
          "exception": false,
          "start_time": "2023-11-19T00:56:31.657682",
          "status": "completed"
        },
        "tags": [],
        "id": "6be8f28e",
        "outputId": "f91f684d-6e02-43ab-9517-d8ebf0eac54d"
      },
      "outputs": [
        {
          "name": "stdout",
          "output_type": "stream",
          "text": [
            "Classification Report:\n",
            "               precision    recall  f1-score   support\n",
            "\n",
            "           0       0.60      0.75      0.67      3190\n",
            "           1       0.65      0.59      0.62      2629\n",
            "           2       0.48      0.35      0.41      2147\n",
            "\n",
            "    accuracy                           0.59      7966\n",
            "   macro avg       0.58      0.56      0.56      7966\n",
            "weighted avg       0.58      0.59      0.58      7966\n",
            "\n",
            "Accuracy: 0.5906351995982927\n"
          ]
        }
      ],
      "source": [
        "# Train\n",
        "model = SVC()\n",
        "model.fit(X_train, y_train)\n",
        "\n",
        "# Test\n",
        "y_pred = model.predict(X_test)\n",
        "\n",
        "# Evaluate\n",
        "classification_rep = classification_report(y_test, y_pred)\n",
        "print(\"Classification Report:\\n\", classification_rep)\n",
        "\n",
        "accuracy = accuracy_score(y_test, y_pred)\n",
        "print(\"Accuracy:\", accuracy)"
      ]
    },
    {
      "cell_type": "markdown",
      "source": [
        "# Experiment details\n",
        "\n",
        "Experimenting with models using processed dataset VS unprocessed dataset:\n",
        "\n",
        "[link to unprocessed](https://colab.research.google.com/drive/1jh9gScBxIQdxO-8pPBg46C7_soCVFkHQ?usp=sharing)\n",
        "\n",
        "[link to preprocessed](https://colab.research.google.com/drive/1QbfXdSHwerGPzA1gFMOPjBuNbXyNOMn-?usp=sharing)\n",
        "\n",
        "Among the tabulated results below, the SVM classifier with raw data achieved the highest precision\n",
        "rate of 0.58, along with the highest overall score, including recall (0.59) and F1 (0.58) score. The lowest\n",
        "precision of 0.506, was observed with the MLP classifier on processed data. The NB classifier on\n",
        "preprocessed data had the lowest recall, at 0.48.\n",
        "\n",
        "![processed vs unprocessed](https://github.com/PixieParksie/-Uni-Project-Data-Mining-/assets/106667881/32212ac0-5af3-4bb3-b04c-1c623cffcedd)\n",
        "\n",
        "\n",
        "These models achieved precision and recall rate approximately 50%, meaning that predictions for\n",
        "sentiments are somewhat accurate but not highly precise in terms of minimising false positives and false\n",
        "negatives.\n",
        "\n",
        "<br>\n",
        "\n",
        "To find variation between the algorithms, I assessed the sensitivity of each model to changes in data\n",
        "characteristics by comparing the differences in precision, recall, and F1-score between processed and\n",
        "unprocessed data. As shown in the table below, there is consistency between the SVM scores for unprocessed and\n",
        "processed data. From this, it can be assumed that SVM is relatively robust to changes in the input data\n",
        "because, due to its nature, it finds a hyperplane that best separates classes based on the original features.\n",
        "MLP on the other hand, is a little more sensitive to quality of input data due to its capacity to capture\n",
        "complex, non-linear relationships in data. MLP may struggle to learn these patterns and perform better\n",
        "with preprocessed, cleaner data.\n",
        "\n",
        "![2](https://github.com/PixieParksie/-Uni-Project-Data-Mining-/assets/106667881/344262f3-1694-47b8-b68a-ef4eedb13563)\n",
        "\n",
        "\n",
        "The consistent pattern showed only slight changes in classification results. Variation of preprocessing did\n",
        "not contribute much significant changes. Another consistent pattern we observed was that, after\n",
        "embedding text with GloVe, classifier accuracy rates dropped by up to 20% for both unprocessed and\n",
        "preprocessed data.\n",
        "\n",
        "<br>\n",
        "\n",
        "Expected / Unexpected outcomes and result aberrations in the experiments :\n",
        "- I was concerned that removing stopwords might lead to the loss of valuable information,\n",
        "particularly in rows with a high number of stopwords, containing over 50% of the sentence. As\n",
        "expected, retaining stopwords improved precision.\n",
        "- Stemming and lemmatisation had minimal impact on accuracy.\n",
        "Stemming had no effect, while lemmatisation produced sight changes by approximately 0.001.\n",
        "- I expected that using word embeddings like GloVe would enhance accuracy by capturing\n",
        "semantic and contextual information. Contrary to this, embedding usage led to a significant\n",
        "accuracy decrease of up to 20%, which starkly contrasts with our previous findings.\n",
        "- All classification results (accuracy, precision, recall, and F1-score) dropped when using\n",
        "preprocessed data, except for the accuracy of Naive Bayes, which showed a slight increase.\n",
        "\n",
        "<br>\n",
        "\n",
        "Although Naive Bayes achieved the highest accuracy score, accuracy alone isn't always the reliable\n",
        "metric. The best-performing algorithm was SVM, which demonstrated the highest precision and recall\n",
        "rates. It also exhibited robustness to noise and changes in input data, making it the ideal choice for the\n",
        "Emotion Detection dataset. Moreover, it does not require too significant computational resources, making\n",
        "it an approachable option. Based on the experiment results, the most effective preprocessing techniques\n",
        "were lemmatisation and the retention of stopwords, and the best feature selection method was TF-IDF, as\n",
        "it consistently provided the best outcomes in the iterative experiments.\n"
      ],
      "metadata": {
        "id": "msMrflIiQKcv"
      },
      "id": "msMrflIiQKcv"
    },
    {
      "cell_type": "markdown",
      "source": [
        "# Conclusion\n",
        "\n",
        "In conclusion, these experiments and analysis have shed light on the influence of various factors, including\n",
        "algorithm types, parameters, pre-processing, and feature engineering techniques, on classification results.\n",
        "\n",
        "Based on the findings, I recommend using SVM combined with lemmatisation, retaining stopwords, and utilising a TF-IDF vectoriser.\n",
        "\n",
        "In theory, unprocessed data is expected to outperform preprocessed data due to the risk of overfitting in\n",
        "unprocessed data, where the model may capture noise, leading to poor generalisation. Preprocessing is\n",
        "designed to mitigate overfitting by cleaning and simplifying the data, allowing the model to focus on the\n",
        "most relevant information.\n",
        "\n",
        "However, our empirical results challenge this theoretical expectation. Surprisingly, I observed no\n",
        "significant differences in evaluation metrics between unprocessed and preprocessed data. This suggests\n",
        "that preprocessing may have limited impact in this context, or the data's quality may mitigate the effects\n",
        "of cleaning steps."
      ],
      "metadata": {
        "id": "ilr4BBy2QQne"
      },
      "id": "ilr4BBy2QQne"
    }
  ],
  "metadata": {
    "kaggle": {
      "accelerator": "none",
      "dataSources": [
        {
          "datasetId": 1116138,
          "sourceId": 1874890,
          "sourceType": "datasetVersion"
        }
      ],
      "dockerImageVersionId": 30587,
      "isGpuEnabled": false,
      "isInternetEnabled": true,
      "language": "python",
      "sourceType": "notebook"
    },
    "kernelspec": {
      "display_name": "Python 3",
      "language": "python",
      "name": "python3"
    },
    "language_info": {
      "codemirror_mode": {
        "name": "ipython",
        "version": 3
      },
      "file_extension": ".py",
      "mimetype": "text/x-python",
      "name": "python",
      "nbconvert_exporter": "python",
      "pygments_lexer": "ipython3",
      "version": "3.10.12"
    },
    "papermill": {
      "default_parameters": {},
      "duration": 3146.576889,
      "end_time": "2023-11-19T01:02:36.532936",
      "environment_variables": {},
      "exception": null,
      "input_path": "__notebook__.ipynb",
      "output_path": "__notebook__.ipynb",
      "parameters": {},
      "start_time": "2023-11-19T00:10:09.956047",
      "version": "2.4.0"
    },
    "colab": {
      "provenance": []
    }
  },
  "nbformat": 4,
  "nbformat_minor": 5
}